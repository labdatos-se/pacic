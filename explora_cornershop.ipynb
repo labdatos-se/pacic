{
 "cells": [
  {
   "attachments": {},
   "cell_type": "markdown",
   "metadata": {},
   "source": [
    "### Exploración Cornershop\n",
    "\n",
    "Este código tiene como objetivo explorar la API de Cornershop para poder determinar si es posible obtener la información necesaria para poder realizar seguimiento del canasta PACIC."
   ]
  },
  {
   "cell_type": "code",
   "execution_count": 2,
   "metadata": {},
   "outputs": [],
   "source": [
    "import pandas as pd\n",
    "import requests"
   ]
  },
  {
   "cell_type": "code",
   "execution_count": 4,
   "metadata": {},
   "outputs": [],
   "source": [
    "#Obtener información sobre presencia\n",
    "paises=\"https://cornershopapp.com/api/v1/countries\"\n",
    "r = requests.get(paises)\n",
    "data_country = r.json()"
   ]
  },
  {
   "cell_type": "code",
   "execution_count": 18,
   "metadata": {},
   "outputs": [
    {
     "name": "stdout",
     "output_type": "stream",
     "text": [
      "Brasil\n",
      "Canada\n",
      "Chile\n",
      "Colombia\n",
      "Costa Rica\n",
      "México\n",
      "Perú\n",
      "United States\n"
     ]
    }
   ],
   "source": [
    "#Obtener países\n",
    "for country in data_country[\"countries\"]:\n",
    "    print(country[\"name\"])"
   ]
  },
  {
   "cell_type": "code",
   "execution_count": 20,
   "metadata": {},
   "outputs": [
    {
     "name": "stdout",
     "output_type": "stream",
     "text": [
      "Ciudad de México\n",
      "Cancún\n",
      "Chihuahua\n",
      "Ciudad Apodaca\n",
      "Ciudad Benito Juárez\n",
      "Ciudad Santa Catarina\n",
      "García\n",
      "General Escobedo\n",
      "Guadalajara\n",
      "León\n",
      "Mérida\n",
      "Metepec\n",
      "Monterrey\n",
      "Puebla\n",
      "Querétaro\n",
      "San Nicolás de los Garza\n",
      "San Pedro Garza García\n",
      "Toluca\n"
     ]
    }
   ],
   "source": [
    "#Obtener ciudades de México\n",
    "for country in data_country[\"countries\"]:\n",
    "    if country[\"name\"]==\"México\":\n",
    "        for city in country[\"cities\"]:\n",
    "            print(city[\"name\"])"
   ]
  },
  {
   "attachments": {},
   "cell_type": "markdown",
   "metadata": {},
   "source": [
    "### Función para obtener tiendas disponibles por código postal"
   ]
  },
  {
   "cell_type": "code",
   "execution_count": 64,
   "metadata": {},
   "outputs": [],
   "source": [
    "#Obtener supermercados por código postal\n",
    "def zip_code(zip_code:str):\n",
    "    url=\"https://cornershopapp.com/api/v1/collections/13?locality=\"+zip_code+\"&country=MX\"\n",
    "    r = requests.get(url)\n",
    "    data_zip = r.json()\n",
    "    tiendas=[]\n",
    "    ids=[]\n",
    "    for stores in data_zip[\"branches\"]:\n",
    "        tiendas.append(stores[\"name\"])\n",
    "        ids.append(stores[\"id\"])\n",
    "    #Llevarlo a un dataframe\n",
    "    df=pd.DataFrame({\"id_tienda\":ids,\"tienda\":tiendas})\n",
    "    return df\n",
    "    "
   ]
  },
  {
   "cell_type": "code",
   "execution_count": 66,
   "metadata": {},
   "outputs": [
    {
     "data": {
      "text/html": [
       "<div>\n",
       "<style scoped>\n",
       "    .dataframe tbody tr th:only-of-type {\n",
       "        vertical-align: middle;\n",
       "    }\n",
       "\n",
       "    .dataframe tbody tr th {\n",
       "        vertical-align: top;\n",
       "    }\n",
       "\n",
       "    .dataframe thead th {\n",
       "        text-align: right;\n",
       "    }\n",
       "</style>\n",
       "<table border=\"1\" class=\"dataframe\">\n",
       "  <thead>\n",
       "    <tr style=\"text-align: right;\">\n",
       "      <th></th>\n",
       "      <th>id_tienda</th>\n",
       "      <th>tienda</th>\n",
       "    </tr>\n",
       "  </thead>\n",
       "  <tbody>\n",
       "    <tr>\n",
       "      <th>0</th>\n",
       "      <td>138</td>\n",
       "      <td>Chedraui</td>\n",
       "    </tr>\n",
       "    <tr>\n",
       "      <th>1</th>\n",
       "      <td>43294</td>\n",
       "      <td>City Club</td>\n",
       "    </tr>\n",
       "    <tr>\n",
       "      <th>2</th>\n",
       "      <td>58</td>\n",
       "      <td>City Market</td>\n",
       "    </tr>\n",
       "    <tr>\n",
       "      <th>3</th>\n",
       "      <td>92</td>\n",
       "      <td>Costco</td>\n",
       "    </tr>\n",
       "    <tr>\n",
       "      <th>4</th>\n",
       "      <td>4416</td>\n",
       "      <td>La Comer</td>\n",
       "    </tr>\n",
       "    <tr>\n",
       "      <th>5</th>\n",
       "      <td>10365</td>\n",
       "      <td>Soriana</td>\n",
       "    </tr>\n",
       "    <tr>\n",
       "      <th>6</th>\n",
       "      <td>4434</td>\n",
       "      <td>Fresko</td>\n",
       "    </tr>\n",
       "    <tr>\n",
       "      <th>7</th>\n",
       "      <td>4420</td>\n",
       "      <td>Sumesa</td>\n",
       "    </tr>\n",
       "  </tbody>\n",
       "</table>\n",
       "</div>"
      ],
      "text/plain": [
       "  id_tienda       tienda\n",
       "0       138     Chedraui\n",
       "1     43294    City Club\n",
       "2        58  City Market\n",
       "3        92       Costco\n",
       "4      4416     La Comer\n",
       "5     10365      Soriana\n",
       "6      4434       Fresko\n",
       "7      4420       Sumesa"
      ]
     },
     "execution_count": 66,
     "metadata": {},
     "output_type": "execute_result"
    }
   ],
   "source": [
    "zip_code(\"06720\")"
   ]
  },
  {
   "cell_type": "code",
   "execution_count": 67,
   "metadata": {},
   "outputs": [
    {
     "data": {
      "text/html": [
       "<div>\n",
       "<style scoped>\n",
       "    .dataframe tbody tr th:only-of-type {\n",
       "        vertical-align: middle;\n",
       "    }\n",
       "\n",
       "    .dataframe tbody tr th {\n",
       "        vertical-align: top;\n",
       "    }\n",
       "\n",
       "    .dataframe thead th {\n",
       "        text-align: right;\n",
       "    }\n",
       "</style>\n",
       "<table border=\"1\" class=\"dataframe\">\n",
       "  <thead>\n",
       "    <tr style=\"text-align: right;\">\n",
       "      <th></th>\n",
       "      <th>id_tienda</th>\n",
       "      <th>tienda</th>\n",
       "    </tr>\n",
       "  </thead>\n",
       "  <tbody>\n",
       "    <tr>\n",
       "      <th>0</th>\n",
       "      <td>138</td>\n",
       "      <td>Chedraui</td>\n",
       "    </tr>\n",
       "    <tr>\n",
       "      <th>1</th>\n",
       "      <td>58</td>\n",
       "      <td>City Market</td>\n",
       "    </tr>\n",
       "    <tr>\n",
       "      <th>2</th>\n",
       "      <td>92</td>\n",
       "      <td>Costco</td>\n",
       "    </tr>\n",
       "    <tr>\n",
       "      <th>3</th>\n",
       "      <td>4417</td>\n",
       "      <td>La Comer</td>\n",
       "    </tr>\n",
       "    <tr>\n",
       "      <th>4</th>\n",
       "      <td>10365</td>\n",
       "      <td>Soriana</td>\n",
       "    </tr>\n",
       "    <tr>\n",
       "      <th>5</th>\n",
       "      <td>4434</td>\n",
       "      <td>Fresko</td>\n",
       "    </tr>\n",
       "    <tr>\n",
       "      <th>6</th>\n",
       "      <td>4421</td>\n",
       "      <td>Sumesa</td>\n",
       "    </tr>\n",
       "  </tbody>\n",
       "</table>\n",
       "</div>"
      ],
      "text/plain": [
       "  id_tienda       tienda\n",
       "0       138     Chedraui\n",
       "1        58  City Market\n",
       "2        92       Costco\n",
       "3      4417     La Comer\n",
       "4     10365      Soriana\n",
       "5      4434       Fresko\n",
       "6      4421       Sumesa"
      ]
     },
     "execution_count": 67,
     "metadata": {},
     "output_type": "execute_result"
    }
   ],
   "source": [
    "zip_code(\"03020\")"
   ]
  },
  {
   "cell_type": "code",
   "execution_count": null,
   "metadata": {},
   "outputs": [],
   "source": []
  },
  {
   "cell_type": "code",
   "execution_count": null,
   "metadata": {},
   "outputs": [],
   "source": []
  }
 ],
 "metadata": {
  "kernelspec": {
   "display_name": "base",
   "language": "python",
   "name": "python3"
  },
  "language_info": {
   "codemirror_mode": {
    "name": "ipython",
    "version": 3
   },
   "file_extension": ".py",
   "mimetype": "text/x-python",
   "name": "python",
   "nbconvert_exporter": "python",
   "pygments_lexer": "ipython3",
   "version": "3.10.9"
  },
  "orig_nbformat": 4
 },
 "nbformat": 4,
 "nbformat_minor": 2
}
